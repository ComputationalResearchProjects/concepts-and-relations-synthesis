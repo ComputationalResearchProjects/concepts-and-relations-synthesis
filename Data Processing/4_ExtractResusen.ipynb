{
 "cells": [
  {
   "cell_type": "markdown",
   "metadata": {},
   "source": [
    "1. training sample"
   ]
  },
  {
   "cell_type": "code",
   "execution_count": 4,
   "metadata": {},
   "outputs": [],
   "source": [
    "import lib.hypo_or_not as f\n",
    "import imp\n",
    "import json\n",
    "imp.reload(f)\n",
    "\n",
    "#Input\n",
    "pdf_list_A1 = f.read_json(\"../Data/data3.json\")\n",
    "valid_sample_list_A2 = f.read_json(\"../Data/valid_sample_list.json\")\n",
    "\n",
    "#Process\n",
    "pdf_label_list, seq_list = f.build_pdf_label_list(pdf_list_A1, valid_sample_list_A2)\n",
    "resu_sen_dict = f.build_resuSen_dict(pdf_label_list)\n",
    "\n",
    "#Output\n",
    "f.write_json(resu_sen_dict, \"../Data/resu_sen_dict.json\")#To Model#"
   ]
  },
  {
   "cell_type": "markdown",
   "metadata": {},
   "source": [
    "2. predicting/labeling whole dataset "
   ]
  },
  {
   "cell_type": "code",
   "execution_count": 5,
   "metadata": {},
   "outputs": [],
   "source": [
    "import lib.hypo_or_not as f\n",
    "import imp\n",
    "import json\n",
    "imp.reload(f)\n",
    "\n",
    "#Input\n",
    "pdf_list_A1 = f.read_json(\"../Data/data3.json\")\n",
    "sample_list = f.read_json(\"../Data/sample_list.json\")\n",
    "\n",
    "#Process\n",
    "process_list = [] #exclude non-hypo, descriptive, invalid hypo(e.g., null hypo is hypo) \n",
    "for pdf_seq, pdf_obj in enumerate(pdf_list_A1):\n",
    "    if pdf_seq not in sample_list:\n",
    "        process_list.append(pdf_seq)\n",
    "                \n",
    "pdf_label_whole_list, t_seq_list = f.build_pdf_label_list(pdf_list_A1, process_list)\n",
    "resu_sen_pred_dict = f.build_hypoSen_pred_dict(pdf_label_whole_list, t_seq_list)\n",
    "all_sen_dict = f.build_all_sen(resu_sen_pred_dict)\n",
    "\n",
    "#Output\n",
    "f.write_json(all_sen_dict, \"../Data/all_sen_dict.json\")\n",
    "f.write_json(resu_sen_pred_dict, \"../Data/resu_sen_pred_dict.json\")#To Model#"
   ]
  }
 ],
 "metadata": {
  "kernelspec": {
   "display_name": "Python 3 (ipykernel)",
   "language": "python",
   "name": "python3"
  },
  "language_info": {
   "codemirror_mode": {
    "name": "ipython",
    "version": 3
   },
   "file_extension": ".py",
   "mimetype": "text/x-python",
   "name": "python",
   "nbconvert_exporter": "python",
   "pygments_lexer": "ipython3",
   "version": "3.9.12"
  }
 },
 "nbformat": 4,
 "nbformat_minor": 4
}
