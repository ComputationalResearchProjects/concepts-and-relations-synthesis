{
 "cells": [
  {
   "cell_type": "markdown",
   "metadata": {},
   "source": [
    "1. training sample"
   ]
  },
  {
   "cell_type": "code",
   "execution_count": 4,
   "metadata": {
    "tags": []
   },
   "outputs": [],
   "source": [
    "import lib.seqLab2conLab as f\n",
    "import imp\n",
    "import json\n",
    "imp.reload(f)\n",
    "\n",
    "#Input\n",
    "conceLabel_list = f.read_json(\"../Data/conceLabel_list.json\")\n",
    "token_labels_list = f.read_json(\"../Data/tokenLabels_role_list.json\")\n",
    "codedSen_role_list = f.read_json(\"../Data/codedSen_role_list.json\")\n",
    "#Process\n",
    "varia_label_dict2, t_sen_list = f.nertxt2varLabel2(conceLabel_list, codedSen_role_list, token_labels_list)\n",
    "\n",
    "#Output\n",
    "f.write_json(varia_label_dict2, \"../Data/varia_label_dict2.json\")#To Model#"
   ]
  },
  {
   "cell_type": "markdown",
   "metadata": {
    "tags": []
   },
   "source": [
    "2. predicting and labeling whole dataset"
   ]
  },
  {
   "cell_type": "code",
   "execution_count": 5,
   "metadata": {},
   "outputs": [],
   "source": [
    "#Input\n",
    "sen_vardict_list = f.read_json(\"../Data/sen_vardict_list.json\")\n",
    "\n",
    "#Process\n",
    "var_list = []\n",
    "role_list = [\"iv\", \"dv\", \"me\", \"mo\", \"cv\"]\n",
    "for t_seq, var_dict in enumerate(sen_vardict_list):\n",
    "    for role in role_list:\n",
    "        if var_dict[role] != 0:\n",
    "            t_var = var_dict[role]\n",
    "            if role == \"iv\":\n",
    "                var_list.append(t_var + \" has effects on\")\n",
    "            elif role == \"dv\":\n",
    "                var_list.append(t_var + \" is affected by\")\n",
    "            elif role == \"me\":\n",
    "                var_list.append(t_var + \" mediates\")\n",
    "            elif role == \"mo\":\n",
    "                var_list.append(t_var + \" moderates\")\n",
    "            else:\n",
    "                var_list.append(t_var + \" is correlated with\")\n",
    "\n",
    "var_label_pred_dict = {}\n",
    "var_label_pred_dict[\"varia\"] = var_list\n",
    "\n",
    "#Output\n",
    "f.write_json(var_label_pred_dict, \"../Data/varia_label_pred_dict.json\")#To Model#"
   ]
  },
  {
   "cell_type": "markdown",
   "metadata": {},
   "source": [
    "process predictions"
   ]
  },
  {
   "cell_type": "code",
   "execution_count": 6,
   "metadata": {},
   "outputs": [
    {
     "name": "stdout",
     "output_type": "stream",
     "text": [
      "380\n"
     ]
    }
   ],
   "source": [
    "import lib.endProcessCon as f\n",
    "import imp\n",
    "import json\n",
    "imp.reload(f)\n",
    "# 3.2.1跑的数据\n",
    "\n",
    "#Input\n",
    "file = open(\"../Data/3_test_predictions2.txt\", \"r\")#From Model#\n",
    "label_pred_list = []\n",
    "for line in file:\n",
    "    line = line.strip(\"\\n\").strip(\"=>\")\n",
    "    label_pred_list.append(line.split(\"=>\"))\n",
    "file.close()\n",
    "\n",
    "file2 = open(\"../Data/3_predict_pro.txt\", \"r\")#From Model# Probability\n",
    "relia_list = []\n",
    "for line in file2:\n",
    "    line = float(line.strip(\"\\n\"))\n",
    "    relia_list.append(line)\n",
    "file2.close()\n",
    "\n",
    "single_pdf_seq2_list = f.read_json(\"../Data/hypo_sen_single_pdfseq2_list.json\")\n",
    "hypo_hid2_list = f.read_json(\"../Data/hypo_hid2_list.json\")\n",
    "hypo_sen_single2_list = f.read_json(\"../Data/hypo_sen_single2_list.json\")\n",
    "pos2_list = f.read_json(\"../Data/pos2_list.json\")\n",
    "\n",
    "\n",
    "#Process\n",
    "spdf_dict, back_var_list = f.new_processCon(var_list, label_pred_list, sen_vardict_list, single_pdf_seq2_list, hypo_hid2_list, hypo_sen_single2_list, relia_list, pos2_list)\n",
    "f.write_json(spdf_dict, \"../Data/hypo_spdf_dict.json\")"
   ]
  }
 ],
 "metadata": {
  "kernelspec": {
   "display_name": "Python 3 (ipykernel)",
   "language": "python",
   "name": "python3"
  },
  "language_info": {
   "codemirror_mode": {
    "name": "ipython",
    "version": 3
   },
   "file_extension": ".py",
   "mimetype": "text/x-python",
   "name": "python",
   "nbconvert_exporter": "python",
   "pygments_lexer": "ipython3",
   "version": "3.9.12"
  }
 },
 "nbformat": 4,
 "nbformat_minor": 4
}
