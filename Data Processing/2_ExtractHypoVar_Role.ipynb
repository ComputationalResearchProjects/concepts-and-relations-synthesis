{
 "cells": [
  {
   "cell_type": "markdown",
   "metadata": {},
   "source": [
    "1. training sample"
   ]
  },
  {
   "cell_type": "code",
   "execution_count": 3,
   "metadata": {
    "tags": []
   },
   "outputs": [],
   "source": [
    "import lib.seque_label as f\n",
    "import imp\n",
    "import json\n",
    "imp.reload(f)\n",
    "\n",
    "#Input\n",
    "pdf_list_A1 = f.read_json(\"../Data/data3.json\")\n",
    "valid_sample_list_A2 = f.read_json(\"../Data/valid_sample_list.json\")\n",
    "\n",
    "#Process\n",
    "pdf_label_list = f.build_pdf_label_list(pdf_list_A1, valid_sample_list_A2)\n",
    "[coded_sen_list, conceLabel_list] = f.build_codedSen_conceLabel_list(pdf_label_list)\n",
    "coded_sen_list = f.process_removeAdd_space_list(coded_sen_list)\n",
    "\n",
    "coded_sen_list_pos = f.process_remainPos_list(coded_sen_list)\n",
    "token_labels_list_pos = f.build_token_labels_list_ivdvmemo(coded_sen_list_pos)\n",
    "\n",
    "coded_sen_list = f.process_remainRole_list(coded_sen_list)\n",
    "token_labels_list = f.build_token_labels_list_ivdvmemo(coded_sen_list)\n",
    "\n",
    "#Output\n",
    "f.write_json(conceLabel_list, \"../Data/conceLabel_list.json\")\n",
    "f.write_json(coded_sen_list, \"../Data/codedSen_role_list.json\")\n",
    "f.write_json(token_labels_list, \"../Data/tokenLabels_role_list.json\")#To Model#\n",
    "f.write_json(token_labels_list_pos, \"../Data/tokenLabels_role_list_pos.json\")#To Model#"
   ]
  },
  {
   "cell_type": "markdown",
   "metadata": {
    "tags": []
   },
   "source": [
    "2. predicting/labeling whole dataset "
   ]
  },
  {
   "cell_type": "code",
   "execution_count": 4,
   "metadata": {},
   "outputs": [],
   "source": [
    "import lib.seque_label as f\n",
    "import imp\n",
    "import json\n",
    "imp.reload(f)\n",
    "\n",
    "\n",
    "#Input\n",
    "hypo_sen_single_list = f.read_json(\"../Data/hypo_sen_single_list.json\")\n",
    "\n",
    "#Process\n",
    "token_labels_pred_list = f.build_token_labels_pred_list(hypo_sen_single_list)\n",
    "\n",
    "#Output\n",
    "f.write_json(token_labels_pred_list, \"../Data/tokenLabels_role_pred_list.json\")#To Model#"
   ]
  },
  {
   "cell_type": "markdown",
   "metadata": {},
   "source": [
    "Process Predictions"
   ]
  },
  {
   "cell_type": "code",
   "execution_count": 5,
   "metadata": {},
   "outputs": [],
   "source": [
    "import lib.replaceAbbre as f\n",
    "import imp\n",
    "import json\n",
    "imp.reload(f)\n",
    "\n",
    "#Input\n",
    "file = open(\"../Data/2.2_test_predictions.txt\", \"r\", encoding=\"utf-8\")#From Model#\n",
    "total_sen_list = []\n",
    "temp_list = []\n",
    "for line in file:\n",
    "    if line == \"\\n\":\n",
    "        temp_list.append(line.split(\"\\n\")[0])\n",
    "        total_sen_list.append(temp_list)\n",
    "        temp_list = []\n",
    "        continue\n",
    "    temp_list.append(line.split(\"\\n\")[0])\n",
    "file.close()\n",
    "\n",
    "file = open(\"../Data/2.2_test_predictions_pos.txt\", \"r\", encoding=\"utf-8\")#From Model#\n",
    "pos_sen_list = []\n",
    "temp_list = []\n",
    "for line in file:\n",
    "    if line == \"\\n\":\n",
    "        temp_list.append(line.split(\"\\n\")[0])\n",
    "        pos_sen_list.append(temp_list)\n",
    "        temp_list = []\n",
    "        continue\n",
    "    temp_list.append(line.split(\"\\n\")[0])\n",
    "file.close()\n",
    "\n",
    "single_pdf_seq_list = f.read_json(\"../Data/hypo_sen_single_pdfseq_list.json\")\n",
    "hypo_hid_list = f.read_json(\"../Data/hypo_hid_list.json\")\n",
    "hypo_sen_single_list = f.read_json(\"../Data/hypo_sen_single_list.json\")\n",
    "\n",
    "\n",
    "#Process\n",
    "t_c = 0\n",
    "pos_list = []\n",
    "for t_sen_list in pos_sen_list:\n",
    "    t_sen = \" \".join(t_sen_list)\n",
    "    t_count = 0\n",
    "    t_postag = 0\n",
    "    \n",
    "    if \"-PO\" in t_sen:\n",
    "        t_postag = \"PO\"\n",
    "        t_count += 1\n",
    "    if \"-NE\" in t_sen:\n",
    "        t_postag = \"NE\"\n",
    "        t_count += 1\n",
    "    if \"-NU\" in t_sen:\n",
    "        t_postag = \"NU\"\n",
    "        t_count += 1\n",
    "\n",
    "    if t_count == 1:#大于一有多个标签，有误；等于零没检测处标签，有误\n",
    "        t_c += 1\n",
    "        pos_list.append(t_postag)\n",
    "    else:\n",
    "        pos_list.append(\"-1\")\n",
    "sen_vardict_list, single_pdf_seq2_list, hypo_hid2_list, var_count_list, hypo_sen_single2_list, pos2_list= f.build_sen_vardict_list(total_sen_list, single_pdf_seq_list, hypo_hid_list, hypo_sen_single_list, pos_list)\n",
    "\n",
    "\n",
    "#Output\n",
    "f.write_json(sen_vardict_list, \"../Data/sen_vardict_list.json\")\n",
    "f.write_json(single_pdf_seq2_list, \"../Data/hypo_sen_single_pdfseq2_list.json\")\n",
    "f.write_json(hypo_hid2_list, \"../Data/hypo_hid2_list.json\")\n",
    "f.write_json(hypo_sen_single2_list, \"../Data/hypo_sen_single2_list.json\")\n",
    "f.write_json(pos2_list, \"../Data/pos2_list.json\")"
   ]
  }
 ],
 "metadata": {
  "kernelspec": {
   "display_name": "Python 3 (ipykernel)",
   "language": "python",
   "name": "python3"
  },
  "language_info": {
   "codemirror_mode": {
    "name": "ipython",
    "version": 3
   },
   "file_extension": ".py",
   "mimetype": "text/x-python",
   "name": "python",
   "nbconvert_exporter": "python",
   "pygments_lexer": "ipython3",
   "version": "3.9.12"
  }
 },
 "nbformat": 4,
 "nbformat_minor": 4
}
