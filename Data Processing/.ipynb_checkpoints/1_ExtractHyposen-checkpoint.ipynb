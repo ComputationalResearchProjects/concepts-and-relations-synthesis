{
 "cells": [
  {
   "cell_type": "markdown",
   "metadata": {},
   "source": [
    "1. training sample"
   ]
  },
  {
   "cell_type": "code",
   "execution_count": 10,
   "metadata": {},
   "outputs": [],
   "source": [
    "import lib.hypo_or_not as f\n",
    "import imp\n",
    "import json\n",
    "imp.reload(f)\n",
    "\n",
    "#Input\n",
    "pdf_list_A1 = f.read_json(\"../Data/data3.json\")\n",
    "valid_sample_list_A2 = f.read_json(\"../Data/valid_sample_list.json\")\n",
    "\n",
    "#Process\n",
    "pdf_label_list, seq_list = f.build_pdf_label_list(pdf_list_A1, valid_sample_list_A2)\n",
    "hypo_sen_dict = f.build_hypoSen_dict(pdf_label_list)\n",
    "\n",
    "#Output\n",
    "f.write_json(hypo_sen_dict, \"../Data/hypo_sen_dict.json\")#To Model#"
   ]
  },
  {
   "cell_type": "markdown",
   "metadata": {},
   "source": [
    "2. predicting/labeling whole dataset "
   ]
  },
  {
   "cell_type": "code",
   "execution_count": 11,
   "metadata": {},
   "outputs": [],
   "source": [
    "#Input\n",
    "pdf_list_A1 = f.read_json(\"../Data/data3.json\")\n",
    "\n",
    "#Process\n",
    "valid_sample_list = [] #exclude non-hypo, descriptive, invalid hypo(e.g., null hypo is hypo) \n",
    "for pdf_seq, pdf_obj in enumerate(pdf_list_A1):\n",
    "    if pdf_obj[\"type\"] != \"invalid\":\n",
    "        if pdf_seq not in valid_sample_list_A2:\n",
    "            valid_sample_list.append(pdf_seq)\n",
    "pdf_label_whole_list, t_seq_list = f.build_pdf_label_list(pdf_list_A1, valid_sample_list)\n",
    "hypo_sen_pred_dict = f.build_hypoSen_pred_dict(pdf_label_whole_list, t_seq_list)\n",
    "\n",
    "#Output\n",
    "f.write_json(hypo_sen_pred_dict, \"../Data/hypo_sen_pred_dict.json\")#To Model#"
   ]
  },
  {
   "cell_type": "markdown",
   "metadata": {},
   "source": [
    "Process Predictions"
   ]
  },
  {
   "cell_type": "code",
   "execution_count": 1,
   "metadata": {},
   "outputs": [],
   "source": [
    "import lib.hypo_or_not as f\n",
    "import lib.filterMultiHypos as f2\n",
    "import imp\n",
    "import json\n",
    "imp.reload(f)\n",
    "imp.reload(f2)\n",
    "\n",
    "#Input\n",
    "hypo_sen_pred_dict = f.read_json(\"../Data/hypo_sen_pred_dict.json\")\n",
    "file = open(\"../Data/1.2_test_predictions.txt\", \"r\")#From Model#\n",
    "label_list = []\n",
    "file.readline()\n",
    "for line in file:\n",
    "    t_label = int(line.strip(\"\\n\").split(\"\\t\")[1])\n",
    "    label_list.append(t_label)\n",
    "file.close()\n",
    "\n",
    "#Process\n",
    "hypo_sen_list, pdf_seq_list = f2.build_hypo_sen_list(hypo_sen_pred_dict, label_list)\n",
    "hypo_sen_single_list, single_pdf_seq_list, hid_list, hypo_sen_multiple_list = f2.build_hypo_sen_single_list(hypo_sen_list, pdf_seq_list)\n",
    "\n",
    "#Output\n",
    "f.write_json(hypo_sen_single_list, \"../Data/hypo_sen_single_list.json\")\n",
    "f.write_json(single_pdf_seq_list, \"../Data/hypo_sen_single_pdfseq_list.json\")\n",
    "f.write_json(hid_list, \"../Data/hypo_hid_list.json\")"
   ]
  }
 ],
 "metadata": {
  "kernelspec": {
   "display_name": "Python 3 (ipykernel)",
   "language": "python",
   "name": "python3"
  },
  "language_info": {
   "codemirror_mode": {
    "name": "ipython",
    "version": 3
   },
   "file_extension": ".py",
   "mimetype": "text/x-python",
   "name": "python",
   "nbconvert_exporter": "python",
   "pygments_lexer": "ipython3",
   "version": "3.9.12"
  }
 },
 "nbformat": 4,
 "nbformat_minor": 4
}
