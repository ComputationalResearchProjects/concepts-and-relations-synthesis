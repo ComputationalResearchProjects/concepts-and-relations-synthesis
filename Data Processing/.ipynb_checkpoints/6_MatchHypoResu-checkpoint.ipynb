{
 "cells": [
  {
   "cell_type": "code",
   "execution_count": 1,
   "metadata": {},
   "outputs": [
    {
     "name": "stdout",
     "output_type": "stream",
     "text": [
      "pdf_overlap:  215\n",
      "pdf_overlap/pdf_num:  0.8847736625514403\n",
      "hid_overlap/hid_num:  0.6370302474793768\n",
      "hid_in_sen/hid_num:  0.6608615948670944\n",
      "hid_in_allsen/hid_num:  0.7314390467461045\n",
      "hid_overlap/res_num:  0.7006048387096774\n",
      "26\n",
      "pdf left1: 249\n",
      "sen left1: 792\n",
      "249\n",
      "pdf left2: 243\n",
      "pdf_desert: 0\n"
     ]
    }
   ],
   "source": [
    "import lib.match as f\n",
    "import imp\n",
    "import json\n",
    "imp.reload(f)\n",
    "import random\n",
    "\n",
    "#Input\n",
    "hypo_spdf_dict = f.read_json(\"../Data/hypo_spdf_dict.json\")\n",
    "resu_spdf_dict = f.read_json(\"../Data/resu_spdf_dict.json\")\n",
    "pdf_list = f.read_json(\"../Data/data3.json\")\n",
    "res_sen_dict = f.read_json(\"../Data/resu_sen_dict2.json\")\n",
    "all_sen_dict = f.read_json(\"../Data/all_sen_dict.json\")\n",
    "valid_sample_list = f.read_json(\"../Data/valid_sample_list.json\")\n",
    "\n",
    "#Process\n",
    "f.combine_resu2hypo(hypo_spdf_dict, resu_spdf_dict, res_sen_dict, all_sen_dict)\n",
    "pdf_whole_list = f.build_pdf_whole_list(hypo_spdf_dict, pdf_list, valid_sample_list)\n",
    "\n",
    "#Output\n",
    "f.write_json(pdf_whole_list, \"../Data/data_whole.json\")"
   ]
  }
 ],
 "metadata": {
  "celltoolbar": "附件",
  "kernelspec": {
   "display_name": "Python 3 (ipykernel)",
   "language": "python",
   "name": "python3"
  },
  "language_info": {
   "codemirror_mode": {
    "name": "ipython",
    "version": 3
   },
   "file_extension": ".py",
   "mimetype": "text/x-python",
   "name": "python",
   "nbconvert_exporter": "python",
   "pygments_lexer": "ipython3",
   "version": "3.9.12"
  }
 },
 "nbformat": 4,
 "nbformat_minor": 4
}
