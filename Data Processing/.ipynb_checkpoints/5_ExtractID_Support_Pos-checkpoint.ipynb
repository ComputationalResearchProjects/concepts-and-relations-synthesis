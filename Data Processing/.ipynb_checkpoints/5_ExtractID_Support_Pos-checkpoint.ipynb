{
 "cells": [
  {
   "cell_type": "markdown",
   "metadata": {},
   "source": [
    "1. training sample"
   ]
  },
  {
   "cell_type": "code",
   "execution_count": 5,
   "metadata": {
    "tags": []
   },
   "outputs": [
    {
     "name": "stdout",
     "output_type": "stream",
     "text": [
      "{'O': 14707, 'B-PANU': 57, 'I-PANU': 28, 'B-RENU': 173, 'B-SUNU': 319, 'I-SUNU': 177, 'B-SUPO': 162, 'I-RENU': 115, 'B-SUNE': 21, 'I-SUNE': 30, 'B-PAPO': 18, 'I-SUPO': 91, 'B-RENE': 1, 'I-PAPO': 32}\n"
     ]
    }
   ],
   "source": [
    "import lib.hypo_or_not as f\n",
    "import imp\n",
    "import json\n",
    "imp.reload(f)\n",
    "import re\n",
    "\n",
    "#Input\n",
    "pdf_list_A1 = f.read_json(\"../Data/data3.json\")\n",
    "valid_sample_list_A2 = f.read_json(\"../Data/valid_sample_list.json\")\n",
    "\n",
    "#Process\n",
    "pdf_label_list, seq_list = f.build_pdf_label_list(pdf_list_A1, valid_sample_list_A2)\n",
    "coded_sen_list = f.build_resuTypeSen_dict(pdf_label_list)\n",
    "token_labels_list = f.build_token_labels_list_su_po(coded_sen_list)\n",
    "token_labels_list_ = f.shorten(token_labels_list)\n",
    "token_labels_list_pos = f.shorten2(token_labels_list)\n",
    "\n",
    "#Output\n",
    "f.write_json(token_labels_list_, \"../Data/tokenLabels_supo_list.json\")#To Model#\n",
    "f.write_json(token_labels_list_pos, \"../Data/tokenLabels_supo_list_pos.json\")#To Model#"
   ]
  },
  {
   "cell_type": "markdown",
   "metadata": {},
   "source": [
    "2. predicting/labeling whole dataset "
   ]
  },
  {
   "cell_type": "code",
   "execution_count": 2,
   "metadata": {},
   "outputs": [],
   "source": [
    "import lib.filterMultiHypos as f\n",
    "imp.reload(f)\n",
    "import lib.seque_label as f2\n",
    "imp.reload(f2)\n",
    "\n",
    "\n",
    "#Input\n",
    "resu_sen_pred_dict = f.read_json(\"../Data/resu_sen_pred_dict.json\")\n",
    "\n",
    "file = open(\"../Data/4.2_test_predictions.txt\", \"r\")\n",
    "label_list = []\n",
    "file.readline()\n",
    "for line in file:\n",
    "    t_label = int(line.strip(\"\\n\").split(\"\\t\")[1])\n",
    "    label_list.append(t_label)\n",
    "file.close()\n",
    "\n",
    "#Process\n",
    "resu_sen_list, pdf_seq_list = f.build_hypo_sen_list(resu_sen_pred_dict, label_list)\n",
    "token_labels_pred_list = f2.build_token_labels_pred_list(resu_sen_list)\n",
    "\n",
    "#Output\n",
    "f.write_json(token_labels_pred_list, \"../Data/tokenLabels_supo_pred_list.json\")#To Model#\n",
    "f.write_json(pdf_seq_list, \"../Data/resu_sen_pdfseq_list.json\")"
   ]
  },
  {
   "cell_type": "markdown",
   "metadata": {},
   "source": [
    "process predictions"
   ]
  },
  {
   "cell_type": "code",
   "execution_count": 3,
   "metadata": {},
   "outputs": [],
   "source": [
    "import lib.endProcessRes as f\n",
    "import imp\n",
    "import json\n",
    "imp.reload(f)\n",
    "\n",
    "#Input\n",
    "total_sen_list = []\n",
    "file = open(\"../Data/5_test_predictions.txt\", \"r\", encoding=\"utf-8\")#From Model#\n",
    "temp_list = []\n",
    "for line in file:\n",
    "    if line == \"\\n\":\n",
    "        temp_list.append(line.split(\"\\n\")[0])\n",
    "        total_sen_list.append(temp_list)\n",
    "        temp_list = []\n",
    "        continue\n",
    "    temp_list.append(line.split(\"\\n\")[0])\n",
    "file.close()\n",
    "\n",
    "pos_sen_list = []\n",
    "file = open(\"../Data/5_test_predictions_pos.txt\", \"r\", encoding=\"utf-8\")#From Model#\n",
    "temp_list = []\n",
    "for line in file:\n",
    "    if line == \"\\n\":\n",
    "        temp_list.append(line.split(\"\\n\")[0])\n",
    "        pos_sen_list.append(temp_list)\n",
    "        temp_list = []\n",
    "        continue\n",
    "    temp_list.append(line.split(\"\\n\")[0])\n",
    "file.close()\n",
    "\n",
    "#Process\n",
    "spdf_dict = f.processRes(total_sen_list, pdf_seq_list, pos_sen_list)\n",
    "resu_sen_dict2 = f.build_res_sen(resu_sen_list, total_sen_list, pdf_seq_list)\n",
    "\n",
    "#Output\n",
    "f.write_json(resu_sen_dict2, \"../Data/resu_sen_dict2.json\")\n",
    "f.write_json(spdf_dict, \"../Data/resu_spdf_dict.json\")"
   ]
  }
 ],
 "metadata": {
  "kernelspec": {
   "display_name": "Python 3 (ipykernel)",
   "language": "python",
   "name": "python3"
  },
  "language_info": {
   "codemirror_mode": {
    "name": "ipython",
    "version": 3
   },
   "file_extension": ".py",
   "mimetype": "text/x-python",
   "name": "python",
   "nbconvert_exporter": "python",
   "pygments_lexer": "ipython3",
   "version": "3.9.12"
  }
 },
 "nbformat": 4,
 "nbformat_minor": 4
}
